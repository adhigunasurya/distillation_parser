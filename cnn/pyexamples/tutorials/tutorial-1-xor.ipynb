{
 "cells": [
  {
   "cell_type": "code",
   "execution_count": 1,
   "metadata": {
    "collapsed": false
   },
   "outputs": [],
   "source": [
    "# we assume that we have the pycnn module in your path.\n",
    "# we also assume that LD_LIBRARY_PATH includes a pointer to where libcnn_shared.so is.\n",
    "from pycnn import *"
   ]
  },
  {
   "cell_type": "markdown",
   "metadata": {},
   "source": [
    "# Working with the pyCNN package\n",
    "\n",
    "The pyCNN package is intended for neural-network processing on the CPU, and is particularly suited for NLP applications. It is a python-wrapper for the CNN package written by Chris Dyer.\n",
    "\n",
    "There are two modes of operation:\n",
    "\n",
    "* __Static networks__, in which a network is built and then being fed with different inputs/outputs. Most NN packages work this way.\n",
    "* __Dynamic networks__, in which a new network is built for each training example (sharing parameters with the networks of other training examples).  This approach is what makes pyCNN unique, and where most of its power comes from.\n",
    "\n",
    "We will describe both of these modes."
   ]
  },
  {
   "cell_type": "markdown",
   "metadata": {},
   "source": [
    "## Package Fundamentals\n",
    "\n",
    "The main piece of pyCNN is the `ComputationGraph`, which is what essentially defines a neural network.\n",
    "The `ComputationGraph` is composed of expressions, which relate to the inputs and outputs of the network,\n",
    "as well as the `Parameters` of the network. The parameters are the things in the network that are optimized over time, and all of the parameters sit inside a `Model`. There are `trainers` (for example `SimpleSGDTrainer`) that are in charge of setting the parameter values.\n",
    "\n",
    "We will not be using the `ComputationGraph` directly, but it is there in the background, as a singleton object.\n",
    "When `pycnn` is imported, a new `ComputationGraph` is created. We can then reset the computation graph to a new state\n",
    "by calling `renew_cg()`.\n"
   ]
  },
  {
   "cell_type": "markdown",
   "metadata": {},
   "source": [
    "## Static Networks\n",
    "\n",
    "The life-cycle of a pyCNN program is:\n",
    "1. Create a `Model`, and populate it with `Parameters`.\n",
    "2. Renew the computation graph, and create `Expression` representing the network\n",
    "      (the network will include the `Expression`s for the `Parameters` defined in the model).\n",
    "3. Optimize the model for the objective of the network.\n",
    "\n",
    "As an example, consider a model for solving the \"xor\" problem. The network has two inputs, which can be 0 or 1, and a single output which should be the xor of the two inputs.\n",
    "We will model this as a multi-layer perceptron with a single hidden node.\n",
    "\n",
    "Let $x = x_1, x_2$ be our input. We will have a hidden layer of 8 nodes, and an output layer of a single node. The activation on the hidden layer will be a $\\tanh$. Our network will then be:\n",
    "\n",
    "$\\sigma(V(\\tanh(Wx+b)))$\n",
    "\n",
    "Where $W$ is a $8 \\times 2$ matrix, $V$ is an $8 \\times 1$ matrix, and $b$ is an 8-dim vector.\n",
    "\n",
    "We want the output to be either 0 or 1, so we take the output layer to be the logistic-sigmoid function, $\\sigma(x)$, that takes values between $-\\infty$ and $+\\infty$ and returns numbers in $[0,1]$.\n",
    "\n",
    "We will begin by defining the model and the computation graph.\n"
   ]
  },
  {
   "cell_type": "code",
   "execution_count": 2,
   "metadata": {
    "collapsed": false
   },
   "outputs": [],
   "source": [
    "# create a model and add the parameters.\n",
    "m = Model()\n",
    "m.add_parameters(\"W\", (8,2))\n",
    "m.add_parameters(\"V\", (1,8))\n",
    "m.add_parameters(\"b\", (8))\n",
    "\n",
    "renew_cg() # new computation graph. not strictly needed here, but good practice.\n",
    "\n",
    "# associate the parameters with cg Expressions\n",
    "W = parameter(m[\"W\"])\n",
    "V = parameter(m[\"V\"])\n",
    "b = parameter(m[\"b\"])"
   ]
  },
  {
   "cell_type": "code",
   "execution_count": 3,
   "metadata": {
    "collapsed": false
   },
   "outputs": [
    {
     "data": {
      "text/plain": [
       "[-0.391936719417572,\n",
       " 0.4916459918022156,\n",
       " -0.471852570772171,\n",
       " 0.8333062529563904,\n",
       " -0.6168352961540222,\n",
       " -0.2860015630722046,\n",
       " 0.13444989919662476,\n",
       " -0.7587275505065918]"
      ]
     },
     "execution_count": 3,
     "metadata": {},
     "output_type": "execute_result"
    }
   ],
   "source": [
    "#b[1:-1].value()\n",
    "b.value()\n"
   ]
  },
  {
   "cell_type": "markdown",
   "metadata": {},
   "source": [
    "The first block creates a model and populates it with parameters.\n",
    "The second block creates a computation graph and adds the parameters to it, transforming them into `Expression`s.\n",
    "The need to distinguish model parameters from \"expressions\" will become clearer later.\n",
    "\n",
    "We now make use of the W and V expressions, in order to create the complete expression for the network."
   ]
  },
  {
   "cell_type": "code",
   "execution_count": 4,
   "metadata": {
    "collapsed": false
   },
   "outputs": [],
   "source": [
    "x = vecInput(2) # an input vector of size 2. Also an expression.\n",
    "output = logistic(V*(tanh((W*x)+b)))\n"
   ]
  },
  {
   "cell_type": "code",
   "execution_count": 5,
   "metadata": {
    "collapsed": false
   },
   "outputs": [
    {
     "data": {
      "text/plain": [
       "0.46759992837905884"
      ]
     },
     "execution_count": 5,
     "metadata": {},
     "output_type": "execute_result"
    }
   ],
   "source": [
    "# we can now query our network\n",
    "x.set([0,0])\n",
    "output.value()\n"
   ]
  },
  {
   "cell_type": "code",
   "execution_count": 6,
   "metadata": {
    "collapsed": false
   },
   "outputs": [],
   "source": [
    "# we want to be able to define a loss, so we need an input expression to work against.\n",
    "y = scalarInput(0) # this will hold the correct answer\n",
    "loss = binary_log_loss(output, y)"
   ]
  },
  {
   "cell_type": "code",
   "execution_count": 7,
   "metadata": {
    "collapsed": false
   },
   "outputs": [
    {
     "name": "stdout",
     "output_type": "stream",
     "text": [
      "-0.510900914669\n",
      "0.916177868843\n"
     ]
    }
   ],
   "source": [
    "x.set([1,0])\n",
    "y.set(0)\n",
    "print loss.value()\n",
    "\n",
    "y.set(1)\n",
    "print loss.value()\n"
   ]
  },
  {
   "cell_type": "markdown",
   "metadata": {},
   "source": [
    "## Training\n",
    "We now want to set the parameter weights such that the loss is minimized. \n",
    "\n",
    "For this, we will use a trainer object. A trainer is constructed with respect to the parameters of a given model."
   ]
  },
  {
   "cell_type": "code",
   "execution_count": 8,
   "metadata": {
    "collapsed": true
   },
   "outputs": [],
   "source": [
    "trainer = SimpleSGDTrainer(m)"
   ]
  },
  {
   "cell_type": "markdown",
   "metadata": {},
   "source": [
    "To use the trainer, we need to:\n",
    "* **call the `forward_scalar`** method of `ComputationGraph`. This will run a forward pass through the network, calculating all the intermediate values until the last one (`loss`, in our case), and then convert the value to a scalar. The final output of our network **must** be a single scalar value. However, if we do not care about the value, we can just use `cg.forward()` instead of `cg.forward_sclar()`.\n",
    "* **call the `backward`** method of `ComputationGraph`. This will run a backward pass from the last node, calculating the gradients with respect to minimizing the last expression (in our case we want to minimize the loss). The gradients are stored in the model, and we can now let the `trainer` take care of the optimization step.\n",
    "* **call `trainer.update()`** to optimize the values with respect to the latest gradients."
   ]
  },
  {
   "cell_type": "code",
   "execution_count": 18,
   "metadata": {
    "collapsed": false
   },
   "outputs": [
    {
     "name": "stdout",
     "output_type": "stream",
     "text": [
      "the loss before step is: 0.237541377544\n",
      "the loss after step is: 0.215936839581\n"
     ]
    }
   ],
   "source": [
    "x.set([1,0])\n",
    "y.set(1)\n",
    "loss_value = loss.value() # this performs a forward through the network.\n",
    "print \"the loss before step is:\",loss_value\n",
    "\n",
    "# now do an optimization step\n",
    "loss.backward()  # compute the gradients\n",
    "trainer.update()\n",
    "\n",
    "# see how it affected the loss:\n",
    "loss_value = loss.value(recalculate=True) # recalculate=True means \"don't use precomputed value\"\n",
    "print \"the loss after step is:\",loss_value\n"
   ]
  },
  {
   "cell_type": "markdown",
   "metadata": {},
   "source": [
    "The optimization step indeed made the loss decrease. We now need to run this in a loop.\n",
    "To this end, we will create a `training set`, and iterate over it.\n",
    "\n",
    "For the xor problem, the training instances are easy to create."
   ]
  },
  {
   "cell_type": "code",
   "execution_count": 19,
   "metadata": {
    "collapsed": true
   },
   "outputs": [],
   "source": [
    "def create_xor_instances(num_rounds=2000):\n",
    "    questions = []\n",
    "    answers = []\n",
    "    for round in xrange(num_rounds):\n",
    "        for x1 in 0,1:\n",
    "            for x2 in 0,1:\n",
    "                answer = 0 if x1==x2 else 1\n",
    "                questions.append((x1,x2))\n",
    "                answers.append(answer)\n",
    "    return questions, answers \n",
    "\n",
    "questions, answers = create_xor_instances()"
   ]
  },
  {
   "cell_type": "markdown",
   "metadata": {},
   "source": [
    "We now feed each question / answer pair to the network, and try to minimize the loss.\n"
   ]
  },
  {
   "cell_type": "code",
   "execution_count": 20,
   "metadata": {
    "collapsed": false
   },
   "outputs": [
    {
     "name": "stdout",
     "output_type": "stream",
     "text": [
      "average loss is: -0.0736760540307\n",
      "average loss is: -0.0431773296744\n",
      "average loss is: -0.0329923908412\n",
      "average loss is: -0.0265793037787\n",
      "average loss is: -0.0219315118343\n",
      "average loss is: -0.0185768032136\n",
      "average loss is: -0.0160888710139\n",
      "average loss is: -0.0141828030394\n",
      "average loss is: -0.0126798275403\n",
      "average loss is: -0.0114656574577\n",
      "average loss is: -0.0104649186862\n",
      "average loss is: -0.00962608709466\n",
      "average loss is: -0.0089128920701\n",
      "average loss is: -0.00829910863324\n",
      "average loss is: -0.00776528354424\n",
      "average loss is: -0.00729674054834\n",
      "average loss is: -0.00688219008419\n",
      "average loss is: -0.00651278639471\n",
      "average loss is: -0.00618152223086\n",
      "average loss is: -0.00588276661444\n",
      "average loss is: -0.00561194644775\n",
      "average loss is: -0.00536530932623\n",
      "average loss is: -0.00513974289653\n",
      "average loss is: -0.00493264887171\n",
      "average loss is: -0.00474184197951\n",
      "average loss is: -0.00456546585523\n",
      "average loss is: -0.00440193738926\n",
      "average loss is: -0.00424990062352\n",
      "average loss is: -0.00410817924357\n",
      "average loss is: -0.00397575346412\n",
      "average loss is: -0.00385173368884\n",
      "average loss is: -0.0037353409997\n",
      "average loss is: -0.00362589035656\n",
      "average loss is: -0.00352277747492\n",
      "average loss is: -0.0034254647359\n",
      "average loss is: -0.00333347332166\n",
      "average loss is: -0.0032463763395\n",
      "average loss is: -0.00316379235218\n",
      "average loss is: -0.00308537749233\n",
      "average loss is: -0.00301082218514\n",
      "average loss is: -0.00293984767561\n",
      "average loss is: -0.00287220093921\n",
      "average loss is: -0.0028076520279\n",
      "average loss is: -0.00274599160401\n",
      "average loss is: -0.00268702900767\n",
      "average loss is: -0.00263059020554\n",
      "average loss is: -0.00257651594453\n",
      "average loss is: -0.00252466075627\n",
      "average loss is: -0.00247489001897\n",
      "average loss is: -0.00242707972354\n",
      "average loss is: -0.00238111569624\n",
      "average loss is: -0.00233689236173\n",
      "average loss is: -0.00229431213741\n",
      "average loss is: -0.00225328474719\n",
      "average loss is: -0.00221372625837\n",
      "average loss is: -0.00217555890941\n",
      "average loss is: -0.00213871019562\n",
      "average loss is: -0.00210311289732\n",
      "average loss is: -0.00206870423375\n",
      "average loss is: -0.00203542506477\n",
      "average loss is: -0.00200322053556\n",
      "average loss is: -0.00197203894936\n",
      "average loss is: -0.00194183212189\n",
      "average loss is: -0.00191255454974\n",
      "average loss is: -0.00188416398736\n",
      "average loss is: -0.00185662054628\n",
      "average loss is: -0.00182988676211\n",
      "average loss is: -0.00180392725441\n",
      "average loss is: -0.00177870851088\n",
      "average loss is: -0.00175419908922\n",
      "average loss is: -0.00173036946333\n",
      "average loss is: -0.00170719160213\n",
      "average loss is: -0.00168463913631\n",
      "average loss is: -0.00166268690267\n",
      "average loss is: -0.0016413110688\n",
      "average loss is: -0.00162048917527\n",
      "average loss is: -0.00160019980025\n",
      "average loss is: -0.00158042266556\n",
      "average loss is: -0.0015611385186\n",
      "average loss is: -0.00154232902762\n"
     ]
    }
   ],
   "source": [
    "total_loss = 0\n",
    "seen_instances = 0\n",
    "for question, answer in zip(questions, answers):\n",
    "    x.set(question)\n",
    "    y.set(answer)\n",
    "    seen_instances += 1\n",
    "    total_loss += loss.value()\n",
    "    loss.backward()\n",
    "    trainer.update()\n",
    "    if (seen_instances > 1 and seen_instances % 100 == 0):\n",
    "        print \"average loss is:\",total_loss / seen_instances\n"
   ]
  },
  {
   "cell_type": "markdown",
   "metadata": {},
   "source": [
    "Our network is now trained. Let's verify that it indeed learned the xor function:"
   ]
  },
  {
   "cell_type": "code",
   "execution_count": 21,
   "metadata": {
    "collapsed": false
   },
   "outputs": [
    {
     "name": "stdout",
     "output_type": "stream",
     "text": [
      "0,1 0.998457551003\n",
      "1,0 0.998303294182\n",
      "0,0 0.00132494198624\n",
      "1,1 0.00213180552237\n"
     ]
    }
   ],
   "source": [
    "x.set([0,1])\n",
    "print \"0,1\",output.value()\n",
    "\n",
    "x.set([1,0])\n",
    "print \"1,0\",output.value()\n",
    "\n",
    "x.set([0,0])\n",
    "print \"0,0\",output.value()\n",
    "\n",
    "x.set([1,1])\n",
    "print \"1,1\",output.value()\n"
   ]
  },
  {
   "cell_type": "markdown",
   "metadata": {},
   "source": [
    "In case we are curious about the parameter values, we can query them:"
   ]
  },
  {
   "cell_type": "code",
   "execution_count": 22,
   "metadata": {
    "collapsed": false
   },
   "outputs": [
    {
     "data": {
      "text/plain": [
       "array([[ 1.90704894,  1.75941706],\n",
       "       [-0.51026875, -0.73472238],\n",
       "       [ 1.00825202,  0.86155057],\n",
       "       [-1.68297076, -1.80956674],\n",
       "       [-1.2174753 , -1.15852094],\n",
       "       [-3.23514462,  2.84460068],\n",
       "       [ 1.63482118,  1.50156498],\n",
       "       [ 2.60078287, -3.01065731]])"
      ]
     },
     "execution_count": 22,
     "metadata": {},
     "output_type": "execute_result"
    }
   ],
   "source": [
    "W.value()"
   ]
  },
  {
   "cell_type": "code",
   "execution_count": 23,
   "metadata": {
    "collapsed": false
   },
   "outputs": [
    {
     "data": {
      "text/plain": [
       "array([[ 2.06817722,  0.85734618,  0.69402838,  3.06676149, -1.10298848,\n",
       "         5.04940414,  1.77656221,  4.74531031]])"
      ]
     },
     "execution_count": 23,
     "metadata": {},
     "output_type": "execute_result"
    }
   ],
   "source": [
    "V.value()"
   ]
  },
  {
   "cell_type": "code",
   "execution_count": 24,
   "metadata": {
    "collapsed": false
   },
   "outputs": [
    {
     "data": {
      "text/plain": [
       "[-0.5166335701942444,\n",
       " 0.8676984906196594,\n",
       " 0.008914745412766933,\n",
       " 2.637610912322998,\n",
       " 0.019709745422005653,\n",
       " -1.4869117736816406,\n",
       " -0.33558133244514465,\n",
       " -1.3341320753097534]"
      ]
     },
     "execution_count": 24,
     "metadata": {},
     "output_type": "execute_result"
    }
   ],
   "source": [
    "b.value()"
   ]
  },
  {
   "cell_type": "markdown",
   "metadata": {},
   "source": [
    "## To summarize\n",
    "Here is a complete program:"
   ]
  },
  {
   "cell_type": "code",
   "execution_count": 25,
   "metadata": {
    "collapsed": false
   },
   "outputs": [
    {
     "name": "stdout",
     "output_type": "stream",
     "text": [
      "average loss is: 0.000710777640343\n",
      "average loss is: 0.00538051903248\n",
      "average loss is: 0.008753751417\n",
      "average loss is: 0.00962603349239\n",
      "average loss is: 0.00916970175505\n",
      "average loss is: 0.00848576014241\n",
      "average loss is: 0.00780005061201\n",
      "average loss is: 0.0071754240524\n",
      "average loss is: 0.0066243140565\n",
      "average loss is: 0.00614239533804\n",
      "average loss is: 0.00572097523307\n",
      "average loss is: 0.00535109124146\n",
      "average loss is: 0.00502474307441\n",
      "average loss is: 0.00473515995978\n",
      "average loss is: 0.00447674103267\n",
      "average loss is: 0.00424488715769\n",
      "average loss is: 0.00403580133858\n",
      "average loss is: 0.00384634935659\n",
      "average loss is: 0.00367392660486\n",
      "average loss is: 0.00351635961281\n",
      "average loss is: 0.00337182009371\n",
      "average loss is: 0.00323876434577\n",
      "average loss is: 0.00311587982183\n",
      "average loss is: 0.00300204546501\n",
      "average loss is: 0.0028963002421\n",
      "average loss is: 0.00279780962182\n",
      "average loss is: 0.00270585036854\n",
      "average loss is: 0.00261979493978\n",
      "average loss is: 0.00253909190298\n",
      "average loss is: 0.00246325349792\n",
      "average loss is: 0.00239185206555\n",
      "average loss is: 0.0023245080647\n",
      "average loss is: 0.00226088441619\n",
      "average loss is: 0.00220067988526\n",
      "average loss is: 0.00214362350718\n",
      "average loss is: 0.00208947365366\n",
      "average loss is: 0.0020380129623\n",
      "average loss is: 0.00198904496207\n",
      "average loss is: 0.00194239226152\n",
      "average loss is: 0.00189789384627\n",
      "average loss is: 0.00185540357037\n",
      "average loss is: 0.00181478771642\n",
      "average loss is: 0.00177592387499\n",
      "average loss is: 0.00173870052693\n",
      "average loss is: 0.0017030151133\n",
      "average loss is: 0.00166877407409\n",
      "average loss is: 0.00163589137076\n",
      "average loss is: 0.00160428755732\n",
      "average loss is: 0.00157388916344\n",
      "average loss is: 0.00154462760519\n",
      "average loss is: 0.00151644010562\n",
      "average loss is: 0.00148926836801\n",
      "average loss is: 0.00146305795107\n",
      "average loss is: 0.00143775891996\n",
      "average loss is: 0.00141332406345\n",
      "average loss is: 0.00138970975105\n",
      "average loss is: 0.00136687505267\n",
      "average loss is: 0.00134478173209\n",
      "average loss is: 0.00132339411352\n",
      "average loss is: 0.00130267874258\n",
      "average loss is: 0.00128260426256\n",
      "average loss is: 0.00126314118082\n",
      "average loss is: 0.0012442619527\n",
      "average loss is: 0.00122594058595\n",
      "average loss is: 0.00120815254805\n",
      "average loss is: 0.00119087479342\n",
      "average loss is: 0.00117408560255\n",
      "average loss is: 0.00115776436539\n",
      "average loss is: 0.00114189174765\n",
      "average loss is: 0.00112644939362\n",
      "average loss is: 0.00111142013773\n",
      "average loss is: 0.00109678746174\n",
      "average loss is: 0.00108253585497\n",
      "average loss is: 0.0010686503392\n",
      "average loss is: 0.00105511702904\n",
      "average loss is: 0.00104192272314\n",
      "average loss is: 0.00102905462018\n",
      "average loss is: 0.00101650077129\n",
      "average loss is: 0.0010042497123\n",
      "average loss is: 0.000992290693015\n"
     ]
    }
   ],
   "source": [
    "# define the parameters\n",
    "m = Model()\n",
    "m.add_parameters(\"W\", (8,2))\n",
    "m.add_parameters(\"V\", (1,8))\n",
    "m.add_parameters(\"b\", (8))\n",
    "\n",
    "# renew the computation graph\n",
    "renew_cg()\n",
    "\n",
    "# add the parameters to the graph\n",
    "W = parameter(m[\"W\"])\n",
    "V = parameter(m[\"V\"])\n",
    "b = parameter(m[\"b\"])\n",
    "\n",
    "# create the network\n",
    "x = vecInput(2) # an input vector of size 2.\n",
    "output = logistic(V*(tanh((W*x)+b)))\n",
    "# define the loss with respect to an output y.\n",
    "y = scalarInput(0) # this will hold the correct answer\n",
    "loss = binary_log_loss(output, y)\n",
    "\n",
    "# create training instances\n",
    "def create_xor_instances(num_rounds=2000):\n",
    "    questions = []\n",
    "    answers = []\n",
    "    for round in xrange(num_rounds):\n",
    "        for x1 in 0,1:\n",
    "            for x2 in 0,1:\n",
    "                answer = 0 if x1==x2 else 1\n",
    "                questions.append((x1,x2))\n",
    "                answers.append(answer)\n",
    "    return questions, answers \n",
    "\n",
    "questions, answers = create_xor_instances()\n",
    "\n",
    "# train the network\n",
    "trainer = SimpleSGDTrainer(m)\n",
    "\n",
    "total_loss = 0\n",
    "seen_instances = 0\n",
    "for question, answer in zip(questions, answers):\n",
    "    x.set(question)\n",
    "    y.set(answer)\n",
    "    seen_instances += 1\n",
    "    total_loss += loss.value()\n",
    "    loss.backward()\n",
    "    trainer.update()\n",
    "    if (seen_instances > 1 and seen_instances % 100 == 0):\n",
    "        print \"average loss is:\",total_loss / seen_instances\n",
    "\n"
   ]
  },
  {
   "cell_type": "markdown",
   "metadata": {},
   "source": [
    "## Dynamic Networks\n",
    "\n",
    "Dynamic networks are very similar to static ones, but instead of creating the network once and then calling \"set\" in each training example to change the inputs, we just create a new network for each training example.\n",
    "\n",
    "We present an example below. While the value of this may not be clear in the `xor` example, the dynamic approach\n",
    "is very convenient for networks for which the structure is not fixed, such as recurrent or recursive networks."
   ]
  },
  {
   "cell_type": "code",
   "execution_count": 26,
   "metadata": {
    "collapsed": false
   },
   "outputs": [
    {
     "name": "stdout",
     "output_type": "stream",
     "text": [
      "average loss is: -0.0434117043018\n",
      "average loss is: -0.030382682085\n",
      "average loss is: -0.0260350414117\n",
      "average loss is: -0.0245157124847\n",
      "average loss is: -0.0215704288483\n",
      "average loss is: -0.0178998744239\n",
      "average loss is: -0.0148817687695\n",
      "average loss is: -0.0126448741369\n",
      "average loss is: -0.0109926707587\n",
      "average loss is: -0.00973503550515\n",
      "average loss is: -0.00874631876634\n",
      "average loss is: -0.00794731451975\n",
      "average loss is: -0.00728702781435\n",
      "average loss is: -0.00673133983875\n",
      "average loss is: -0.00625665952327\n",
      "average loss is: -0.00584609933663\n",
      "average loss is: -0.00548723993439\n",
      "average loss is: -0.00517074972184\n",
      "average loss is: -0.00488942034788\n",
      "average loss is: -0.00463762690453\n",
      "average loss is: -0.00441089029069\n",
      "average loss is: -0.00420562038346\n",
      "average loss is: -0.00401886963711\n",
      "average loss is: -0.00384821915689\n",
      "average loss is: -0.00369165667389\n",
      "average loss is: -0.00354749959141\n",
      "average loss is: -0.00341432033779\n",
      "average loss is: -0.00329090173223\n",
      "average loss is: -0.00317620157505\n",
      "average loss is: -0.00306932546338\n",
      "average loss is: -0.00296949436062\n",
      "average loss is: -0.00287602832846\n",
      "average loss is: -0.00278833741689\n",
      "average loss is: -0.00270589900306\n",
      "average loss is: -0.00262825351767\n",
      "average loss is: -0.00255499271922\n",
      "average loss is: -0.00248575425367\n",
      "average loss is: -0.00242021449964\n",
      "average loss is: -0.00235808361865\n",
      "average loss is: -0.00229910133278\n",
      "average loss is: -0.00224303434427\n",
      "average loss is: -0.00218967100073\n",
      "average loss is: -0.00213881912322\n",
      "average loss is: -0.00209030493051\n",
      "average loss is: -0.00204397013002\n",
      "average loss is: -0.00199967051132\n",
      "average loss is: -0.00195727446959\n",
      "average loss is: -0.00191666179603\n",
      "average loss is: -0.00187772191776\n",
      "average loss is: -0.0018403530397\n",
      "average loss is: -0.00180446159583\n",
      "average loss is: -0.0017699615956\n",
      "average loss is: -0.00173677365427\n",
      "average loss is: -0.00170482409213\n",
      "average loss is: -0.00167404436261\n",
      "average loss is: -0.00164437123308\n",
      "average loss is: -0.00161574586736\n",
      "average loss is: -0.00158811347559\n",
      "average loss is: -0.0015614229679\n",
      "average loss is: -0.00153562722582\n",
      "average loss is: -0.00151068181977\n",
      "average loss is: -0.00148654521539\n",
      "average loss is: -0.00146317849714\n",
      "average loss is: -0.00144054521572\n",
      "average loss is: -0.00141861138174\n",
      "average loss is: -0.0013973448718\n",
      "average loss is: -0.00137671559425\n",
      "average loss is: -0.00135669496189\n",
      "average loss is: -0.00133725664821\n",
      "average loss is: -0.00131837574296\n",
      "average loss is: -0.00130002835688\n",
      "average loss is: -0.00128219219668\n",
      "average loss is: -0.00126484589098\n",
      "average loss is: -0.00124796962008\n",
      "average loss is: -0.00123154441345\n",
      "average loss is: -0.00121555239431\n",
      "average loss is: -0.00119997651854\n",
      "average loss is: -0.00118480070451\n",
      "average loss is: -0.00117000979887\n",
      "average loss is: -0.00115558931208\n"
     ]
    }
   ],
   "source": [
    "# create training instances, as before\n",
    "def create_xor_instances(num_rounds=2000):\n",
    "    questions = []\n",
    "    answers = []\n",
    "    for round in xrange(num_rounds):\n",
    "        for x1 in 0,1:\n",
    "            for x2 in 0,1:\n",
    "                answer = 0 if x1==x2 else 1\n",
    "                questions.append((x1,x2))\n",
    "                answers.append(answer)\n",
    "    return questions, answers \n",
    "\n",
    "questions, answers = create_xor_instances()\n",
    "\n",
    "# create a network for the xor problem given input and output\n",
    "def create_xor_network(model, inputs, expected_answer):\n",
    "    renew_cg()\n",
    "    W = parameter(model[\"W\"])\n",
    "    V = parameter(model[\"V\"])\n",
    "    b = parameter(model[\"b\"])\n",
    "    x = vecInput(len(inputs))\n",
    "    x.set(inputs)\n",
    "    y = scalarInput(expected_answer)\n",
    "    output = logistic(V*(tanh((W*x)+b)))\n",
    "    loss =  binary_log_loss(output, y)\n",
    "    return loss\n",
    "\n",
    "m = Model()\n",
    "m.add_parameters(\"W\", (8,2))\n",
    "m.add_parameters(\"V\", (1,8))\n",
    "m.add_parameters(\"b\", (8))\n",
    "trainer = SimpleSGDTrainer(m)\n",
    "\n",
    "seen_instances = 0\n",
    "total_loss = 0\n",
    "for question, answer in zip(questions, answers):\n",
    "    loss = create_xor_network(m, question, answer)\n",
    "    seen_instances += 1\n",
    "    total_loss += loss.value()\n",
    "    loss.backward()\n",
    "    trainer.update()\n",
    "    if (seen_instances > 1 and seen_instances % 100 == 0):\n",
    "        print \"average loss is:\",total_loss / seen_instances\n",
    "\n"
   ]
  },
  {
   "cell_type": "code",
   "execution_count": null,
   "metadata": {
    "collapsed": true
   },
   "outputs": [],
   "source": []
  }
 ],
 "metadata": {
  "kernelspec": {
   "display_name": "Python 2",
   "language": "python",
   "name": "python2"
  },
  "language_info": {
   "codemirror_mode": {
    "name": "ipython",
    "version": 2
   },
   "file_extension": ".py",
   "mimetype": "text/x-python",
   "name": "python",
   "nbconvert_exporter": "python",
   "pygments_lexer": "ipython2",
   "version": "2.7.10"
  }
 },
 "nbformat": 4,
 "nbformat_minor": 0
}
